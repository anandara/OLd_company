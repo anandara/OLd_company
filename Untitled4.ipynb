{
 "cells": [
  {
   "cell_type": "code",
   "execution_count": 5,
   "metadata": {},
   "outputs": [
    {
     "name": "stdout",
     "output_type": "stream",
     "text": [
      "5\n"
     ]
    },
    {
     "data": {
      "text/plain": [
       "3"
      ]
     },
     "execution_count": 5,
     "metadata": {},
     "output_type": "execute_result"
    }
   ],
   "source": [
    "number=int(input())\n",
    "width = len(\"{0:b}\".format(number))\n",
    "#.format(number))\n",
    "width"
   ]
  },
  {
   "cell_type": "code",
   "execution_count": 18,
   "metadata": {},
   "outputs": [
    {
     "name": "stdout",
     "output_type": "stream",
     "text": [
      "10001\n"
     ]
    }
   ],
   "source": [
    "num=17\n",
    "print('{0:b}'.format(num))"
   ]
  },
  {
   "cell_type": "code",
   "execution_count": 16,
   "metadata": {},
   "outputs": [
    {
     "data": {
      "text/plain": [
       "1"
      ]
     },
     "execution_count": 16,
     "metadata": {},
     "output_type": "execute_result"
    }
   ],
   "source": [
    "len('{0:o}'.format(5))"
   ]
  },
  {
   "cell_type": "code",
   "execution_count": 31,
   "metadata": {},
   "outputs": [
    {
     "name": "stdout",
     "output_type": "stream",
     "text": [
      "0 \n",
      "1 \n",
      "10 \n",
      "11 \n",
      "100 \n",
      "101 \n",
      "110 \n",
      "111 \n",
      "1000 \n",
      "1001 \n"
     ]
    }
   ],
   "source": [
    "width=10\n",
    "for i in range(10):\n",
    "    print(\"{0:b} \".format(i))"
   ]
  },
  {
   "cell_type": "code",
   "execution_count": 43,
   "metadata": {},
   "outputs": [
    {
     "name": "stdout",
     "output_type": "stream",
     "text": [
      "    5\n"
     ]
    }
   ],
   "source": [
    "print(\"{0:{width}d}\".format(5,width=5))"
   ]
  },
  {
   "cell_type": "code",
   "execution_count": 54,
   "metadata": {},
   "outputs": [
    {
     "name": "stdout",
     "output_type": "stream",
     "text": [
      "5\n",
      "--------e--------\n",
      "------e-d-e------\n",
      "----e-d-c-d-e----\n",
      "--e-d-c-b-c-d-e--\n"
     ]
    }
   ],
   "source": [
    "import string\n",
    "alpha = string.ascii_lowercase\n",
    " \n",
    "n = int(input())\n",
    "L = []\n",
    "\n",
    "for i in range(n):\n",
    "    s = \"-\".join(alpha[i:n])\n",
    "   \n",
    "    L.append(s[::-1]+s[1:])\n",
    "    #print(L)\n",
    "\n",
    "width = len(L[0])\n",
    "#print(width)\n",
    "\n",
    "for i in range(n-1, 0, -1):\n",
    "    print(L[i].center(width,\"-\"))\n",
    "    #print(L[i].center(width, \"-\"))\n",
    "\n",
    "#for i in range(n):\n",
    "    #print(L[i].center(width, \"-\"))"
   ]
  },
  {
   "cell_type": "code",
   "execution_count": 64,
   "metadata": {},
   "outputs": [
    {
     "name": "stdout",
     "output_type": "stream",
     "text": [
      "[5]\n",
      "[4]\n",
      "[3]\n",
      "[2]\n",
      "[1]\n"
     ]
    }
   ],
   "source": [
    "l=['a','b','c','d','e','f']\n",
    "le=len(l)\n",
    "for i in range(le-1,0,-1):\n",
    "    print([i])"
   ]
  },
  {
   "cell_type": "code",
   "execution_count": 71,
   "metadata": {},
   "outputs": [
    {
     "name": "stdout",
     "output_type": "stream",
     "text": [
      "anand raj\n",
      "Anand Raj\n"
     ]
    }
   ],
   "source": [
    "s = input()\n",
    "for x in s[:].split():\n",
    "    s = s.replace(x, x.capitalize())\n",
    "    [ ]\n",
    "    \n",
    "print(s)"
   ]
  },
  {
   "cell_type": "code",
   "execution_count": 73,
   "metadata": {},
   "outputs": [
    {
     "name": "stdout",
     "output_type": "stream",
     "text": [
      "Anand Raj Is Loves Food\n"
     ]
    }
   ],
   "source": [
    "s=\"anand raj is loves food\"\n",
    "print(s.title())"
   ]
  },
  {
   "cell_type": "code",
   "execution_count": null,
   "metadata": {},
   "outputs": [],
   "source": []
  }
 ],
 "metadata": {
  "kernelspec": {
   "display_name": "Python 3",
   "language": "python",
   "name": "python3"
  },
  "language_info": {
   "codemirror_mode": {
    "name": "ipython",
    "version": 3
   },
   "file_extension": ".py",
   "mimetype": "text/x-python",
   "name": "python",
   "nbconvert_exporter": "python",
   "pygments_lexer": "ipython3",
   "version": "3.7.0"
  }
 },
 "nbformat": 4,
 "nbformat_minor": 2
}
