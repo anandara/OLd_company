{
 "cells": [
  {
   "cell_type": "code",
   "execution_count": 1,
   "metadata": {},
   "outputs": [
    {
     "name": "stdout",
     "output_type": "stream",
     "text": [
      "The zipped result is : {('Shambhavi', 3), ('Nikhil', 1), ('Astha', 2), ('Manjeet', 4)}\n"
     ]
    }
   ],
   "source": [
    "# Python code to demonstrate the working of  \n",
    "# zip() \n",
    "  \n",
    "# initializing lists \n",
    "name = [ \"Manjeet\", \"Nikhil\", \"Shambhavi\", \"Astha\" ] \n",
    "roll_no = [ 4, 1, 3, 2 ] \n",
    "marks = [ 40, 50, 60, 70 ] \n",
    "  \n",
    "# using zip() to map values \n",
    "mapped = zip(name, roll_no) \n",
    "  \n",
    "# converting values to print as set \n",
    "\n",
    "mapped = set(mapped) \n",
    "  \n",
    "# printing resultant values  \n",
    "print (\"The zipped result is : \",end=\"\") \n",
    "print (mapped) "
   ]
  },
  {
   "cell_type": "code",
   "execution_count": 10,
   "metadata": {},
   "outputs": [
    {
     "name": "stdout",
     "output_type": "stream",
     "text": [
      "1\n",
      "anand\n",
      "58\n",
      "[('anand', 58.0)]\n",
      "('anand',)\n",
      "(58.0,)\n"
     ]
    }
   ],
   "source": [
    "name=[]\n",
    "score=[]\n",
    "for _ in range(int(input())):\n",
    "        name.append(input())\n",
    "        score.append(float(input()))\n",
    "        \n",
    "mapped=list(zip(name,score))\n",
    "unmapped1,unmapped2=zip(*mapped)\n",
    "        \n",
    "print(mapped)        \n",
    "print(unmapped1)   \n",
    "print(unmapped2)   "
   ]
  },
  {
   "cell_type": "code",
   "execution_count": null,
   "metadata": {},
   "outputs": [],
   "source": []
  }
 ],
 "metadata": {
  "kernelspec": {
   "display_name": "Python 3",
   "language": "python",
   "name": "python3"
  },
  "language_info": {
   "codemirror_mode": {
    "name": "ipython",
    "version": 3
   },
   "file_extension": ".py",
   "mimetype": "text/x-python",
   "name": "python",
   "nbconvert_exporter": "python",
   "pygments_lexer": "ipython3",
   "version": "3.7.0"
  }
 },
 "nbformat": 4,
 "nbformat_minor": 2
}
