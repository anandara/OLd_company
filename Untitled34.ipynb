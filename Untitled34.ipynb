{
 "cells": [
  {
   "cell_type": "code",
   "execution_count": 2,
   "metadata": {},
   "outputs": [],
   "source": [
    "import numpy as np\n",
    "\n",
    "#Input array\n",
    "X=np.array([[1,0,1,0],[1,0,1,1],[0,1,0,1]])\n",
    "\n",
    "#Output\n",
    "y=np.array([[1],[1],[0]])\n",
    "\n",
    "#Sigmoid Function\n",
    "def sigmoid (x):\n",
    " return 1/(1 + np.exp(-x))\n",
    "\n",
    "#Derivative of Sigmoid Function\n",
    "def derivatives_sigmoid(x):\n",
    " return x * (1 - x)\n",
    "\n"
   ]
  },
  {
   "cell_type": "code",
   "execution_count": 4,
   "metadata": {},
   "outputs": [],
   "source": [
    "#Variable initialization\n",
    "epoch=5000 #Setting training iterations\n",
    "lr=0.1 #Setting learning rate\n",
    "inputlayer_neurons = X.shape[1] #number of features in data set\n",
    "hiddenlayer_neurons = 3 #number of hidden layers neurons\n",
    "output_neurons = 1 #number of neurons at output layer\n"
   ]
  },
  {
   "cell_type": "code",
   "execution_count": 11,
   "metadata": {},
   "outputs": [],
   "source": [
    "\n",
    "#weight and bias initialization\n",
    "wh=np.random.uniform(size=(inputlayer_neurons,hiddenlayer_neurons))\n",
    "bh=np.random.uniform(size=(1,hiddenlayer_neurons))\n",
    "wout=np.random.uniform(size=(hiddenlayer_neurons,output_neurons))\n",
    "bout=np.random.uniform(size=(1,output_neurons))\n",
    "\n"
   ]
  },
  {
   "cell_type": "code",
   "execution_count": 12,
   "metadata": {},
   "outputs": [
    {
     "data": {
      "text/plain": [
       "array([[0.92488165, 0.39566367, 0.39951746],\n",
       "       [0.20503944, 0.86818962, 0.80400154],\n",
       "       [0.29796846, 0.38514075, 0.41173455],\n",
       "       [0.52889301, 0.06932349, 0.81310198]])"
      ]
     },
     "execution_count": 12,
     "metadata": {},
     "output_type": "execute_result"
    }
   ],
   "source": [
    "wh"
   ]
  },
  {
   "cell_type": "code",
   "execution_count": null,
   "metadata": {},
   "outputs": [],
   "source": [
    "for i in range(epoch):\n",
    "\n",
    "#Forward Propogation\n",
    " hidden_layer_input1=np.dot(X,wh)\n",
    " hidden_layer_input=hidden_layer_input1 + bh\n",
    " hiddenlayer_activations = sigmoid(hidden_layer_input)\n",
    " output_layer_input1=np.dot(hiddenlayer_activations,wout)\n",
    " output_layer_input= output_layer_input1+ bout\n",
    " output = sigmoid(output_layer_input)\n",
    "\n",
    "#Backpropagation\n",
    " E = y-output\n",
    " slope_output_layer = derivatives_sigmoid(output)\n",
    " slope_hidden_layer = derivatives_sigmoid(hiddenlayer_activations)\n",
    " d_output = E * slope_output_layer\n",
    " Error_at_hidden_layer = d_output.dot(wout.T)\n",
    " d_hiddenlayer = Error_at_hidden_layer * slope_hidden_layer\n",
    " wout += hiddenlayer_activations.T.dot(d_output) *lr\n",
    " bout += np.sum(d_output, axis=0,keepdims=True) *lr\n",
    " wh += X.T.dot(d_hiddenlayer) *lr\n",
    " bh += np.sum(d_hiddenlayer, axis=0,keepdims=True) *lr\n",
    "\n",
    "print output\n"
   ]
  }
 ],
 "metadata": {
  "kernelspec": {
   "display_name": "Python 3",
   "language": "python",
   "name": "python3"
  },
  "language_info": {
   "codemirror_mode": {
    "name": "ipython",
    "version": 3
   },
   "file_extension": ".py",
   "mimetype": "text/x-python",
   "name": "python",
   "nbconvert_exporter": "python",
   "pygments_lexer": "ipython3",
   "version": "3.7.0"
  }
 },
 "nbformat": 4,
 "nbformat_minor": 2
}
